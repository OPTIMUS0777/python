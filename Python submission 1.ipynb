{
 "cells": [
  {
   "cell_type": "raw",
   "id": "70351acb",
   "metadata": {},
   "source": [
    "Q1. Write a Python program to print \"Hello Python\"?"
   ]
  },
  {
   "cell_type": "code",
   "execution_count": 4,
   "id": "86310d57",
   "metadata": {},
   "outputs": [
    {
     "name": "stdout",
     "output_type": "stream",
     "text": [
      "Hello Python\n"
     ]
    }
   ],
   "source": [
    "print (\"Hello Python\")"
   ]
  },
  {
   "cell_type": "raw",
   "id": "657b2563",
   "metadata": {},
   "source": [
    "Q2. Write a Python program to do arithmetical operations addition and division.?\n"
   ]
  },
  {
   "cell_type": "code",
   "execution_count": 5,
   "id": "fdde915f",
   "metadata": {},
   "outputs": [
    {
     "name": "stdout",
     "output_type": "stream",
     "text": [
      "enter 1st number766\n",
      "enter 2nd number656\n",
      "1422\n"
     ]
    }
   ],
   "source": [
    "num1 = int(input(\"enter 1st number\"))\n",
    "num2 = int(input(\"enter 2nd number\"))\n",
    "\n",
    "SUM= num1 + num2\n",
    "\n",
    "print(SUM)\n"
   ]
  },
  {
   "cell_type": "code",
   "execution_count": 7,
   "id": "6d386a37",
   "metadata": {},
   "outputs": [
    {
     "name": "stdout",
     "output_type": "stream",
     "text": [
      "enter 1st number90\n",
      "enter 2nd number5\n",
      "18.0\n"
     ]
    }
   ],
   "source": [
    "num1 = int(input(\"enter 1st number\"))\n",
    "num2 = int(input(\"enter 2nd number\"))\n",
    "\n",
    "divison = num1 / num2\n",
    "\n",
    "print(divison)"
   ]
  },
  {
   "cell_type": "raw",
   "id": "3036a10e",
   "metadata": {},
   "source": [
    "Q3. Write a Python program to find the area of a triangle?\n"
   ]
  },
  {
   "cell_type": "code",
   "execution_count": 16,
   "id": "144f9183",
   "metadata": {},
   "outputs": [
    {
     "name": "stdout",
     "output_type": "stream",
     "text": [
      "Enter first side: 3\n",
      "Enter second side: 22\n",
      "Enter third side: 24\n",
      "The area of the triangle is 25.66\n"
     ]
    }
   ],
   "source": [
    "##by herons formula\n",
    "\n",
    "a = float(input('Enter first side: '))  \n",
    "b = float(input('Enter second side: '))  \n",
    "c = float(input('Enter third side: '))  \n",
    "  \n",
    "s = (a + b + c) / 2 \n",
    "\n",
    "area = (s*(s-a)*(s-b)*(s-c)) ** 0.5  \n",
    "\n",
    "print('The area of the triangle is %0.2f' % area)  "
   ]
  },
  {
   "cell_type": "raw",
   "id": "3b01899e",
   "metadata": {},
   "source": [
    "Q4. Write a Python program to swap two variables?\n"
   ]
  },
  {
   "cell_type": "code",
   "execution_count": 6,
   "id": "c80e978e",
   "metadata": {},
   "outputs": [
    {
     "name": "stdout",
     "output_type": "stream",
     "text": [
      "a=  43\n",
      "b=  20\n"
     ]
    }
   ],
   "source": [
    "# swapping numbers by taking A as 20 and B as 43\n",
    "\n",
    "a=20\n",
    "b=43\n",
    "a,b=b,a\n",
    "\n",
    "print (\"a= \",a)\n",
    "print (\"b= \",b)"
   ]
  },
  {
   "cell_type": "raw",
   "id": "d2b5c8a0",
   "metadata": {},
   "source": [
    "Q5. Write a Python program to generate a random number"
   ]
  },
  {
   "cell_type": "code",
   "execution_count": 3,
   "id": "9bd0f853",
   "metadata": {},
   "outputs": [
    {
     "name": "stdout",
     "output_type": "stream",
     "text": [
      "345\n"
     ]
    }
   ],
   "source": [
    "# obtaining random number between 1-500\n",
    "\n",
    "import random\n",
    "random_number = random.randint(1, 500)\n",
    "\n",
    "print (random_number)"
   ]
  }
 ],
 "metadata": {
  "kernelspec": {
   "display_name": "Python 3 (ipykernel)",
   "language": "python",
   "name": "python3"
  },
  "language_info": {
   "codemirror_mode": {
    "name": "ipython",
    "version": 3
   },
   "file_extension": ".py",
   "mimetype": "text/x-python",
   "name": "python",
   "nbconvert_exporter": "python",
   "pygments_lexer": "ipython3",
   "version": "3.9.13"
  }
 },
 "nbformat": 4,
 "nbformat_minor": 5
}
