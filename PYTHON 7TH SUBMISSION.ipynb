{
 "cells": [
  {
   "cell_type": "raw",
   "id": "22fb630e",
   "metadata": {},
   "source": [
    "1 Write a Python Program to find sum of array?"
   ]
  },
  {
   "cell_type": "code",
   "execution_count": 1,
   "id": "b04121ae",
   "metadata": {},
   "outputs": [
    {
     "name": "stdout",
     "output_type": "stream",
     "text": [
      "Sum of List:  47\n"
     ]
    }
   ],
   "source": [
    "list = [9,3,2,7,7,1,3,7,8]\n",
    "\n",
    "def listsum(list):\n",
    "    total = 0\n",
    "    i = 0\n",
    "    while i < len(list):\n",
    "        total = total + list[i]\n",
    "        i = i + 1\n",
    "    return total\n",
    "\n",
    "totalsum = listsum(list);\n",
    "print('Sum of List: ', totalsum)"
   ]
  },
  {
   "cell_type": "raw",
   "id": "0a86f561",
   "metadata": {},
   "source": [
    "2 Write a Python Program to find largest element in an array?"
   ]
  },
  {
   "cell_type": "code",
   "execution_count": 2,
   "id": "6a2315f0",
   "metadata": {},
   "outputs": [
    {
     "name": "stdout",
     "output_type": "stream",
     "text": [
      "array\n",
      " [[76  3 17]\n",
      " [26 47 46]]\n",
      "Largest value in array\n",
      " 76\n"
     ]
    }
   ],
   "source": [
    "import numpy as np\n",
    "\n",
    "arr = np.random.randint(100, size=(2,3))\n",
    "print('array\\n', arr)\n",
    "\n",
    "max_value = np.max(arr)\n",
    "print('Largest value in array\\n',max_value)"
   ]
  },
  {
   "cell_type": "raw",
   "id": "7d0a8737",
   "metadata": {},
   "source": [
    "3 Write a Python Program for array rotation?"
   ]
  },
  {
   "cell_type": "code",
   "execution_count": 3,
   "id": "015958e1",
   "metadata": {},
   "outputs": [
    {
     "name": "stdout",
     "output_type": "stream",
     "text": [
      "[5 6 7 8 3 1 5 3]\n"
     ]
    }
   ],
   "source": [
    "#right rotation\n",
    "import numpy as np\n",
    "\n",
    "array1 = np.array([7, 8, 3, 1,5,3, 5, 6])\n",
    "array2 = np.roll(array1, 2) \n",
    "print(array2)\n"
   ]
  },
  {
   "cell_type": "code",
   "execution_count": 15,
   "id": "1607700b",
   "metadata": {},
   "outputs": [
    {
     "name": "stdout",
     "output_type": "stream",
     "text": [
      "[3 4 5 6 1 2]\n"
     ]
    }
   ],
   "source": [
    "#left rotation\n",
    "import numpy as np\n",
    "\n",
    "myarray = np.array([1, 2, 3, 4, 5, 6])\n",
    "\n",
    "newarray =np.roll(myarray, -2) #rotate left\n",
    "print(newarray)"
   ]
  },
  {
   "cell_type": "raw",
   "id": "4fe102a6",
   "metadata": {},
   "source": [
    "4. Write a Python Program to Split the array and add the first part to the end?"
   ]
  },
  {
   "cell_type": "code",
   "execution_count": 55,
   "id": "49cdd113",
   "metadata": {},
   "outputs": [
    {
     "name": "stdout",
     "output_type": "stream",
     "text": [
      "4 5 6 7 8 9 10 11 12 1 2 3 "
     ]
    }
   ],
   "source": [
    "def splitArr(arr, n, k):\n",
    "        for i in range(0, k):\n",
    "                x = arr[0]\n",
    "                for j in range(0, n-1):\n",
    "                        arr[j] = arr[j + 1]\n",
    "\n",
    "                arr[n-1] = x\n",
    "            \n",
    "arr = [1,2,3,4,5,6,7,8,9,10,11,12]\n",
    "n = len(arr)\n",
    "position = 3\n",
    "\n",
    "splitArr(arr, n, position)\n",
    "  \n",
    "for i in range(0, n):\n",
    "        print(arr[i], end = ' ')\n",
    "\n",
    "\n",
    "\n",
    "\n",
    "\n",
    "\n",
    "\n"
   ]
  },
  {
   "cell_type": "raw",
   "id": "4a534d19",
   "metadata": {},
   "source": [
    "Write a Python Program to check if given array is Monotonic?"
   ]
  },
  {
   "cell_type": "code",
   "execution_count": 4,
   "id": "6770e5ee",
   "metadata": {},
   "outputs": [
    {
     "name": "stdout",
     "output_type": "stream",
     "text": [
      "Enter the lenth of your list : 9\n",
      "2\n",
      "7\n",
      "4\n",
      "5\n",
      "7\n",
      "9\n",
      "9\n",
      "8\n",
      "7\n",
      "The List is  [2, 7, 4, 5, 7, 9, 9, 8, 7]\n",
      "Not Monotonic\n"
     ]
    }
   ],
   "source": [
    "n = int(input(\"Enter the lenth of your list : \"))\n",
    "lst = []\n",
    "\n",
    "for i in range(n):\n",
    "    lst.append(int(input()))\n",
    "print(\"The List is \",lst)\n",
    "\n",
    "if all((lst[i] <= lst[i+1] for i in range(n-1)) or (lst[i] >= lst[i+1] for i in range(n-1))):\n",
    "    print(\"Monotonic\")\n",
    "else:\n",
    "    print(\"Not Monotonic\")"
   ]
  }
 ],
 "metadata": {
  "kernelspec": {
   "display_name": "Python 3 (ipykernel)",
   "language": "python",
   "name": "python3"
  },
  "language_info": {
   "codemirror_mode": {
    "name": "ipython",
    "version": 3
   },
   "file_extension": ".py",
   "mimetype": "text/x-python",
   "name": "python",
   "nbconvert_exporter": "python",
   "pygments_lexer": "ipython3",
   "version": "3.9.13"
  }
 },
 "nbformat": 4,
 "nbformat_minor": 5
}
