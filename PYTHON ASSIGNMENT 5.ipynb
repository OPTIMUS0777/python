{
 "cells": [
  {
   "cell_type": "raw",
   "id": "5d213ea0",
   "metadata": {},
   "source": [
    "1. Write a Python Program to Find LCM?"
   ]
  },
  {
   "cell_type": "code",
   "execution_count": 1,
   "id": "15019274",
   "metadata": {},
   "outputs": [
    {
     "name": "stdout",
     "output_type": "stream",
     "text": [
      "Enter first number: 32\n",
      "Enter second number: 22\n",
      "The LCM of 32 and 22 is 352\n"
     ]
    }
   ],
   "source": [
    "num1 = int(input('Enter first number: '))\n",
    "num2 = int(input('Enter second number: '))\n",
    "\n",
    "\n",
    "if (num1 > num2):\n",
    "    greater = num1\n",
    "else:\n",
    "    greater = num2\n",
    "\n",
    "while(True):\n",
    "  \n",
    "    if(greater % num1 == 0 and greater % num2 == 0):\n",
    "        print('The LCM of',num1,'and',num2,'is',greater)\n",
    "        break\n",
    "    greater += 1"
   ]
  },
  {
   "cell_type": "raw",
   "id": "ef3e849d",
   "metadata": {},
   "source": [
    "2. Write a Python Program to Find HCF?"
   ]
  },
  {
   "cell_type": "code",
   "execution_count": 6,
   "id": "6e799362",
   "metadata": {},
   "outputs": [
    {
     "name": "stdout",
     "output_type": "stream",
     "text": [
      "Enter first number: 24\n",
      "Enter second number: 6\n",
      "[1, 2, 3, 6]\n",
      "6\n"
     ]
    }
   ],
   "source": [
    "num1 = int(input(\"Enter first number: \"))  \n",
    "num2 = int(input(\"Enter second number: \"))  \n",
    "\n",
    "\n",
    "smallest_num = min(num1, num2)\n",
    "largest_number = max(num1, num2)\n",
    "factors = []\n",
    "hcf = None\n",
    "\n",
    "for i in range(1, smallest_num+1):\n",
    "    if smallest_num%i == 0:\n",
    "        factors.append(i)\n",
    "        \n",
    "print(factors)\n",
    "\n",
    "for factor in factors:\n",
    "    if largest_number%factor == 0:\n",
    "       \n",
    "        hcf = factor\n",
    "\n",
    "print(hcf)"
   ]
  },
  {
   "cell_type": "raw",
   "id": "2705ff1c",
   "metadata": {},
   "source": [
    "3.Write a Python Program to Convert Decimal to Binary, Octal and Hexadecimal?"
   ]
  },
  {
   "cell_type": "code",
   "execution_count": 10,
   "id": "31f04e1e",
   "metadata": {},
   "outputs": [
    {
     "name": "stdout",
     "output_type": "stream",
     "text": [
      "Please Enter the Decimal Number = 66\n",
      "66  Decimal =  0b110110 Binary Value\n",
      "66  Decimal =  0o66 Octal Value\n",
      "66  Decimal =  0x36 Hexadecimal Value\n"
     ]
    }
   ],
   "source": [
    "DECIMALNUMBER = int(input(\"Please Enter the Decimal Number = \"))\n",
    "\n",
    "binary = bin(decimal)\n",
    "octa = oct(decimal)\n",
    "hexa = hex(decimal)\n",
    "\n",
    "print(DECIMALNUMBER, \" Decimal = \", binary, \"Binary Value\")\n",
    "print(DECIMALNUMBER, \" Decimal = \", octa, \"Octal Value\")\n",
    "print(DECIMALNUMBER, \" Decimal = \", hexa, \"Hexadecimal Value\")"
   ]
  },
  {
   "cell_type": "raw",
   "id": "4deb708e",
   "metadata": {},
   "source": [
    "4 Write a Python Program To Find ASCII value of a character?"
   ]
  },
  {
   "cell_type": "code",
   "execution_count": 15,
   "id": "b2f0b05b",
   "metadata": {},
   "outputs": [
    {
     "name": "stdout",
     "output_type": "stream",
     "text": [
      "Enter a character: y\n",
      "The ASCII value of 'y' is 121\n"
     ]
    }
   ],
   "source": [
    " char = input(\"Enter a character: \")  \n",
    "    \n",
    "print(\"The ASCII value of '\" + char + \"' is\", ord(char))\n",
    "  \n",
    " \n"
   ]
  },
  {
   "cell_type": "raw",
   "id": "c14bb8ae",
   "metadata": {},
   "source": [
    "5. Write a Python Program to Make a Simple Calculator with 4 basic mathematical operations?"
   ]
  },
  {
   "cell_type": "code",
   "execution_count": 16,
   "id": "5e9ef891",
   "metadata": {},
   "outputs": [
    {
     "name": "stdout",
     "output_type": "stream",
     "text": [
      "Enter two number for calculation\n",
      "Enter a number1: 76\n",
      "Enter a number2: 76\n",
      "Enter your choice \n",
      " 1. Addition \n",
      " 2. Substraction \n",
      " 3. Multiplication \n",
      " 4.Division\n",
      "1\n",
      "Addition 152\n"
     ]
    }
   ],
   "source": [
    "def Addition (num1,num2):\n",
    "   return num1+num2\n",
    "\n",
    "def Substraction (num1,num2):\n",
    "   return num1-num2\n",
    "\n",
    "def Multiplication (num1,num2):\n",
    "   return num1*num2\n",
    "\n",
    "def Division (num1,num2):\n",
    "   return num1/num2\n",
    "\n",
    "print(\"Enter two number for calculation\")\n",
    "\n",
    "num1 = int(input(\"Enter a number1: \"))\n",
    "num2 = int(input(\"Enter a number2: \"))\n",
    "\n",
    "print(\"Enter your choice \\n 1. Addition \\n 2. Substraction \\n 3. Multiplication \\n 4.Division\")\n",
    "choice = int(input())\n",
    "\n",
    "if choice == 1:\n",
    " \n",
    "   print(\"Addition\",Addition(num1,num2))\n",
    "elif choice ==2:\n",
    "\n",
    "   print(\"Substraction\",Substraction(num1,num2))\n",
    "elif choice ==3:\n",
    "   \n",
    "   print(\"Multiplication\",Multiplication(num1,num2))\n",
    "elif choice == 4:\n",
    "\n",
    "   print(\"Division\",Division(num1,num2))"
   ]
  }
 ],
 "metadata": {
  "kernelspec": {
   "display_name": "Python 3 (ipykernel)",
   "language": "python",
   "name": "python3"
  },
  "language_info": {
   "codemirror_mode": {
    "name": "ipython",
    "version": 3
   },
   "file_extension": ".py",
   "mimetype": "text/x-python",
   "name": "python",
   "nbconvert_exporter": "python",
   "pygments_lexer": "ipython3",
   "version": "3.9.13"
  }
 },
 "nbformat": 4,
 "nbformat_minor": 5
}
