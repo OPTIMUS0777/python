{
 "cells": [
  {
   "cell_type": "markdown",
   "id": "20cb4340",
   "metadata": {
    "id": "20cb4340"
   },
   "source": [
    "## Programming Assignment_4\n",
    "----------------"
   ]
  },
  {
   "cell_type": "raw",
   "id": "d1b53334",
   "metadata": {
    "id": "4fdb6695"
   },
   "source": [
    "Q1 Write a Python Program to Find the Factorial of a Number?"
   ]
  },
  {
   "cell_type": "code",
   "execution_count": 3,
   "id": "hOeAnUwS8YPP",
   "metadata": {
    "id": "hOeAnUwS8YPP"
   },
   "outputs": [
    {
     "name": "stdout",
     "output_type": "stream",
     "text": [
      "Enter a Number to find factorial : 33\n",
      "Factorial of 33 is 8683317618811886495518194401280000000\n"
     ]
    }
   ],
   "source": [
    "NUM = int(input(\"Enter a Number to find factorial : \"))\n",
    "factorial = 1\n",
    "if NUM < 0:\n",
    "    print(\"Error- Negative number cannot have factorial\")\n",
    "elif num == 0:\n",
    "    print(\"Factorial of zero is 1\")\n",
    "else:\n",
    "    for i in range(1,NUM+1):\n",
    "        factorial = factorial * i\n",
    "print(\"Factorial of {} is {}\".format(NUM, factorial))"
   ]
  },
  {
   "cell_type": "raw",
   "id": "651dda6d",
   "metadata": {
    "id": "e6beef62"
   },
   "source": [
    "Q2 Write a Python Program to Display the multiplication Table? Type Markdown and LaTeX:  𝛼2"
   ]
  },
  {
   "cell_type": "code",
   "execution_count": 8,
   "id": "KRlnRPqETMOx",
   "metadata": {
    "id": "KRlnRPqETMOx"
   },
   "outputs": [
    {
     "name": "stdout",
     "output_type": "stream",
     "text": [
      "Enter a Number : 55\n",
      "\n",
      "Multiplication table for number 55\n",
      "\n",
      "55 X 1 = 55\n",
      "55 X 2 = 110\n",
      "55 X 3 = 165\n",
      "55 X 4 = 220\n",
      "55 X 5 = 275\n",
      "55 X 6 = 330\n",
      "55 X 7 = 385\n",
      "55 X 8 = 440\n",
      "55 X 9 = 495\n",
      "55 X 10 = 550\n"
     ]
    }
   ],
   "source": [
    "NUM = int(input(\"Enter a Number : \"))\n",
    "\n",
    "print(\"\\nMultiplication table for number {}\\n\".format(NUM))\n",
    "for i in range(1,11):\n",
    "    print(\"{} X {} = {}\".format(NUM,i,i*NUM))"
   ]
  },
  {
   "cell_type": "raw",
   "id": "0ddf5eb2",
   "metadata": {
    "id": "7de7eba5"
   },
   "source": [
    "Q3 Write a Python Program to Print the Fibonacci sequence?\n"
   ]
  },
  {
   "cell_type": "code",
   "execution_count": 12,
   "id": "11b3115e",
   "metadata": {},
   "outputs": [
    {
     "name": "stdout",
     "output_type": "stream",
     "text": [
      "enter a number : 45\n",
      "Fibonacci series upto  45 :\n",
      "0 1 1 2 3 5 8 13 21 34 55 89 144 233 377 610 987 1597 2584 4181 6765 10946 17711 28657 46368 75025 121393 196418 317811 514229 832040 1346269 2178309 3524578 5702887 9227465 14930352 24157817 39088169 63245986 102334155 165580141 267914296 433494437 701408733 1134903170 "
     ]
    }
   ],
   "source": [
    "Fibonacci_sequence = int(input(\"enter a number : \"))\n",
    "count = 0\n",
    "a , b = 0,1\n",
    "\n",
    "if Fibonacci_sequence <= 0:\n",
    "    print(\"Please enter a positive number\")\n",
    "elif Fibonacci_sequence == 1:\n",
    "    print(\"Fibonacci series upto \",Fibonacci_sequence, \":\")\n",
    "    print(a)\n",
    "else:\n",
    "    print(\"Fibonacci series upto \",Fibonacci_sequence, \":\")\n",
    "    while count <= Fibonacci_sequence:        \n",
    "        print(a, end=\" \")\n",
    "        c = a + b\n",
    "        a,b = b, c\n",
    "        count+=1"
   ]
  },
  {
   "cell_type": "raw",
   "id": "d95bedc1",
   "metadata": {
    "id": "0446442e"
   },
   "source": [
    "Q4 Write a Python Program to Check Armstrong Number?"
   ]
  },
  {
   "cell_type": "code",
   "execution_count": 13,
   "id": "cd1ed43d",
   "metadata": {},
   "outputs": [
    {
     "name": "stdout",
     "output_type": "stream",
     "text": [
      "Enter the number : 676\n",
      "NO\n"
     ]
    }
   ],
   "source": [
    "num = int(input(\"Enter the number : \"))\n",
    "\n",
    "power = len(str(num))\n",
    "\n",
    "temp = num\n",
    "sum = 0\n",
    "while temp > 0:\n",
    "    digit = temp % 10\n",
    "    sum = sum + digit ** power\n",
    "    temp = temp//10\n",
    "if num == sum :\n",
    "    print(\"YES\")\n",
    "else:\n",
    "    print(\"NO\")"
   ]
  },
  {
   "cell_type": "raw",
   "id": "a8604aef",
   "metadata": {
    "id": "a6f9adfe"
   },
   "source": [
    "Q5 Write a Python Program to Find Armstrong Number in an Interval? Type Markdown and LaTeX:  𝛼2"
   ]
  },
  {
   "cell_type": "code",
   "execution_count": 17,
   "id": "737b47bb",
   "metadata": {},
   "outputs": [
    {
     "name": "stdout",
     "output_type": "stream",
     "text": [
      "Lower limit : 1\n",
      "Upper limit : 22\n",
      "1\n",
      "2\n",
      "3\n",
      "4\n",
      "5\n",
      "6\n",
      "7\n",
      "8\n",
      "9\n"
     ]
    }
   ],
   "source": [
    "\n",
    "MIN = int(input(\"Lower limit : \"))\n",
    "MAX = int(input(\"Upper limit : \"))\n",
    "\n",
    "\n",
    "for num in range(MIN,MAX+1):\n",
    "    power = len(str(num))\n",
    "    temp = num\n",
    "    sum = 0\n",
    "    while temp > 0:\n",
    "        digit = temp % 10\n",
    "        sum = sum + digit ** power\n",
    "        temp = temp//10\n",
    "    if num == sum :\n",
    "        print(num)"
   ]
  },
  {
   "cell_type": "raw",
   "id": "7420c40f",
   "metadata": {
    "id": "157cad60"
   },
   "source": [
    "Q6 Write a Python Program to Find the Sum of Natural Numbers?"
   ]
  },
  {
   "cell_type": "code",
   "execution_count": 1,
   "id": "48d57441",
   "metadata": {},
   "outputs": [
    {
     "name": "stdout",
     "output_type": "stream",
     "text": [
      "enter the number : 32\n",
      "Sum of natural numbers upto 32 is 528\n"
     ]
    }
   ],
   "source": [
    "num = int(input(\"enter the number : \"))\n",
    "sum = 0\n",
    "for i in range(0,num+1):\n",
    "    sum+=i\n",
    "print(\"Sum of natural numbers upto {} is {}\".format(num,sum))\n",
    "    "
   ]
  }
 ],
 "metadata": {
  "colab": {
   "provenance": []
  },
  "kernelspec": {
   "display_name": "Python 3 (ipykernel)",
   "language": "python",
   "name": "python3"
  },
  "language_info": {
   "codemirror_mode": {
    "name": "ipython",
    "version": 3
   },
   "file_extension": ".py",
   "mimetype": "text/x-python",
   "name": "python",
   "nbconvert_exporter": "python",
   "pygments_lexer": "ipython3",
   "version": "3.9.13"
  }
 },
 "nbformat": 4,
 "nbformat_minor": 5
}
