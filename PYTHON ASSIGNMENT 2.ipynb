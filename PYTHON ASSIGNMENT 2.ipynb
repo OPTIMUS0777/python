{
 "cells": [
  {
   "cell_type": "raw",
   "id": "6b56504a",
   "metadata": {},
   "source": [
    "Q1 Write a Python program to convert kilometers to miles"
   ]
  },
  {
   "cell_type": "code",
   "execution_count": 1,
   "id": "76e07b56",
   "metadata": {},
   "outputs": [
    {
     "name": "stdout",
     "output_type": "stream",
     "text": [
      "Enter kilometers :22\n",
      "22.000 kilometers is equal to 13.662 miles\n"
     ]
    }
   ],
   "source": [
    "kilometers = float(input(\"Enter kilometers :\"))\n",
    "conversionUnit = 0.621\n",
    "miles = kilometers * conversionUnit\n",
    "print(\"%0.3f kilometers is equal to %0.3f miles\"%(kilometers,miles))\n",
    "                 "
   ]
  },
  {
   "cell_type": "raw",
   "id": "222c8b00",
   "metadata": {},
   "source": [
    "Q2 Write a Python program to convert Celsius to Fahrenheit?\n",
    "Type Markdown and LaTeX:  𝛼2\n"
   ]
  },
  {
   "cell_type": "code",
   "execution_count": 2,
   "id": "8cdf6178",
   "metadata": {},
   "outputs": [
    {
     "name": "stdout",
     "output_type": "stream",
     "text": [
      "Celsius : 34\n",
      "34.00 celsius is 93.20 fahrenheit\n"
     ]
    }
   ],
   "source": [
    "celsius = float(input(\"Celsius : \"))\n",
    "Fahrenheit = 9/5 * celsius + 32\n",
    "print(\"%0.2f celsius is %0.2f fahrenheit\"%(celsius,Fahrenheit))"
   ]
  },
  {
   "cell_type": "raw",
   "id": "ecb80266",
   "metadata": {},
   "source": [
    "Q3 Write a Python program to display calendar?"
   ]
  },
  {
   "cell_type": "code",
   "execution_count": 11,
   "id": "29fc9a57",
   "metadata": {},
   "outputs": [
    {
     "name": "stdout",
     "output_type": "stream",
     "text": [
      " Enter Year : 2023\n",
      "Enter Month : 4\n",
      "Calender\n",
      "     April 2023\n",
      "Mo Tu We Th Fr Sa Su\n",
      "                1  2\n",
      " 3  4  5  6  7  8  9\n",
      "10 11 12 13 14 15 16\n",
      "17 18 19 20 21 22 23\n",
      "24 25 26 27 28 29 30\n",
      "\n"
     ]
    }
   ],
   "source": [
    "import calendar\n",
    "\n",
    "y = int(input(\" Enter Year : \"))\n",
    "m = int(input(\"Enter Month : \"))\n",
    "\n",
    "try :\n",
    "    print(\"Calender\")\n",
    "    print(calendar.month(y,m))\n",
    "except:\n",
    "    print(\"Invalid Data\")"
   ]
  },
  {
   "cell_type": "raw",
   "id": "33d87cde",
   "metadata": {},
   "source": [
    "Q4 Write a Python program to solve quadratic equation?"
   ]
  },
  {
   "cell_type": "code",
   "execution_count": 9,
   "id": "49b14af1",
   "metadata": {},
   "outputs": [
    {
     "name": "stdout",
     "output_type": "stream",
     "text": [
      " Enter value of a : 2\n",
      " Enter value of b : 2\n",
      " Enter value of c : 1\n",
      "The roots are\n",
      "(-0.5-0.5j)\n",
      "(-0.5+0.5j)\n"
     ]
    }
   ],
   "source": [
    "import cmath\n",
    "  \n",
    "a = int(input(\" Enter value of a : \"))\n",
    "b = int(input(\" Enter value of b : \"))\n",
    "c = int(input(\" Enter value of c : \"))\n",
    "# calculating  the discriminant\n",
    "dis = (b**2) - (4 * a*c)\n",
    "  \n",
    "\n",
    "x1 = (-b-cmath.sqrt(dis))/(2 * a)\n",
    "x2 = (-b + cmath.sqrt(dis))/(2 * a)\n",
    "  \n",
    "\n",
    "print('The roots are')\n",
    "print(x1)\n",
    "print(x2)"
   ]
  },
  {
   "cell_type": "raw",
   "id": "c4c5e86a",
   "metadata": {},
   "source": [
    "Q5 Write a Python program to swap two variables without temp variable?"
   ]
  },
  {
   "cell_type": "code",
   "execution_count": 10,
   "id": "f3b76440",
   "metadata": {},
   "outputs": [
    {
     "name": "stdout",
     "output_type": "stream",
     "text": [
      "Num1 : 54\n",
      "Num2 : 32\n",
      "Before swaping x = 54, y = 32\n",
      "After swaping x = 32, y = 54\n"
     ]
    }
   ],
   "source": [
    "x = int(input(\"Num1 : \"))\n",
    "y = int(input(\"Num2 : \"))\n",
    "print(\"Before swaping x = {}, y = {}\".format(x,y))\n",
    "\n",
    "y,x = x,y\n",
    "print(\"After swaping x = {}, y = {}\".format(x,y))"
   ]
  }
 ],
 "metadata": {
  "kernelspec": {
   "display_name": "Python 3 (ipykernel)",
   "language": "python",
   "name": "python3"
  },
  "language_info": {
   "codemirror_mode": {
    "name": "ipython",
    "version": 3
   },
   "file_extension": ".py",
   "mimetype": "text/x-python",
   "name": "python",
   "nbconvert_exporter": "python",
   "pygments_lexer": "ipython3",
   "version": "3.9.13"
  }
 },
 "nbformat": 4,
 "nbformat_minor": 5
}
